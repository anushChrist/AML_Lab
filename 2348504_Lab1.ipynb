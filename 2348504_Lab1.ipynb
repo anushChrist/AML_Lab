{
  "cells": [
    {
      "cell_type": "markdown",
      "metadata": {
        "id": "view-in-github",
        "colab_type": "text"
      },
      "source": [
        "<a href=\"https://colab.research.google.com/github/anushChrist/AML_Lab/blob/main/2348504_Lab1.ipynb\" target=\"_parent\"><img src=\"https://colab.research.google.com/assets/colab-badge.svg\" alt=\"Open In Colab\"/></a>"
      ]
    },
    {
      "cell_type": "markdown",
      "metadata": {
        "id": "hG0yoHPGqmRv"
      },
      "source": [
        "### Importing dependencies"
      ]
    },
    {
      "cell_type": "code",
      "execution_count": null,
      "metadata": {
        "id": "k0pyl2hylmeW"
      },
      "outputs": [],
      "source": [
        "import numpy as np\n",
        "import pandas as pd\n",
        "import matplotlib.pyplot as plt\n",
        "import seaborn as sns\n",
        "import warnings\n",
        "warnings.filterwarnings(\"ignore\")"
      ]
    },
    {
      "cell_type": "markdown",
      "metadata": {
        "id": "PRY1nI5Iqsen"
      },
      "source": [
        "### Importing dataset"
      ]
    },
    {
      "cell_type": "code",
      "execution_count": null,
      "metadata": {
        "id": "HY3rv-t_F76O"
      },
      "outputs": [],
      "source": [
        "df = pd.read_csv(\"Program_1_dataset.csv\")"
      ]
    },
    {
      "cell_type": "markdown",
      "metadata": {
        "id": "KvRrXEUfO-RQ"
      },
      "source": [
        "### Printing the dataset"
      ]
    },
    {
      "cell_type": "code",
      "execution_count": null,
      "metadata": {
        "colab": {
          "base_uri": "https://localhost:8080/",
          "height": 206
        },
        "id": "X8uGzZ9NGAqM",
        "outputId": "07b060aa-ea85-4a59-f13f-70bebfe9faa7"
      },
      "outputs": [
        {
          "data": {
            "text/html": [
              "<div>\n",
              "<style scoped>\n",
              "    .dataframe tbody tr th:only-of-type {\n",
              "        vertical-align: middle;\n",
              "    }\n",
              "\n",
              "    .dataframe tbody tr th {\n",
              "        vertical-align: top;\n",
              "    }\n",
              "\n",
              "    .dataframe thead th {\n",
              "        text-align: right;\n",
              "    }\n",
              "</style>\n",
              "<table border=\"1\" class=\"dataframe\">\n",
              "  <thead>\n",
              "    <tr style=\"text-align: right;\">\n",
              "      <th></th>\n",
              "      <th>Crime_Rate</th>\n",
              "      <th>Zone_proportion</th>\n",
              "      <th>Non_Retail_Acres</th>\n",
              "      <th>CHAS</th>\n",
              "      <th>NOX</th>\n",
              "      <th>Avg_rooms</th>\n",
              "      <th>AGE</th>\n",
              "      <th>Distance</th>\n",
              "      <th>RAD</th>\n",
              "      <th>Property_TaxRate</th>\n",
              "      <th>PTRATIO</th>\n",
              "      <th>B</th>\n",
              "      <th>LSTAT</th>\n",
              "      <th>MValue</th>\n",
              "    </tr>\n",
              "  </thead>\n",
              "  <tbody>\n",
              "    <tr>\n",
              "      <th>0</th>\n",
              "      <td>0.06860</td>\n",
              "      <td>0.0</td>\n",
              "      <td>2.89</td>\n",
              "      <td>0</td>\n",
              "      <td>0.445</td>\n",
              "      <td>7.416</td>\n",
              "      <td>62.5</td>\n",
              "      <td>3.4952</td>\n",
              "      <td>2</td>\n",
              "      <td>276</td>\n",
              "      <td>18.0</td>\n",
              "      <td>396.90</td>\n",
              "      <td>6.19</td>\n",
              "      <td>33.2</td>\n",
              "    </tr>\n",
              "    <tr>\n",
              "      <th>1</th>\n",
              "      <td>0.14866</td>\n",
              "      <td>0.0</td>\n",
              "      <td>8.56</td>\n",
              "      <td>0</td>\n",
              "      <td>0.520</td>\n",
              "      <td>6.727</td>\n",
              "      <td>79.9</td>\n",
              "      <td>2.7778</td>\n",
              "      <td>5</td>\n",
              "      <td>384</td>\n",
              "      <td>20.9</td>\n",
              "      <td>394.76</td>\n",
              "      <td>9.42</td>\n",
              "      <td>27.5</td>\n",
              "    </tr>\n",
              "    <tr>\n",
              "      <th>2</th>\n",
              "      <td>0.11432</td>\n",
              "      <td>0.0</td>\n",
              "      <td>8.56</td>\n",
              "      <td>0</td>\n",
              "      <td>0.520</td>\n",
              "      <td>6.781</td>\n",
              "      <td>71.3</td>\n",
              "      <td>2.8561</td>\n",
              "      <td>5</td>\n",
              "      <td>384</td>\n",
              "      <td>20.9</td>\n",
              "      <td>395.58</td>\n",
              "      <td>7.67</td>\n",
              "      <td>26.5</td>\n",
              "    </tr>\n",
              "    <tr>\n",
              "      <th>3</th>\n",
              "      <td>0.22876</td>\n",
              "      <td>0.0</td>\n",
              "      <td>8.56</td>\n",
              "      <td>0</td>\n",
              "      <td>0.520</td>\n",
              "      <td>6.405</td>\n",
              "      <td>85.4</td>\n",
              "      <td>2.7147</td>\n",
              "      <td>5</td>\n",
              "      <td>384</td>\n",
              "      <td>20.9</td>\n",
              "      <td>70.80</td>\n",
              "      <td>10.63</td>\n",
              "      <td>18.6</td>\n",
              "    </tr>\n",
              "    <tr>\n",
              "      <th>4</th>\n",
              "      <td>0.21161</td>\n",
              "      <td>0.0</td>\n",
              "      <td>8.56</td>\n",
              "      <td>0</td>\n",
              "      <td>0.520</td>\n",
              "      <td>6.137</td>\n",
              "      <td>87.4</td>\n",
              "      <td>2.7147</td>\n",
              "      <td>5</td>\n",
              "      <td>384</td>\n",
              "      <td>20.9</td>\n",
              "      <td>394.47</td>\n",
              "      <td>13.44</td>\n",
              "      <td>19.3</td>\n",
              "    </tr>\n",
              "  </tbody>\n",
              "</table>\n",
              "</div>"
            ],
            "text/plain": [
              "   Crime_Rate  Zone_proportion  Non_Retail_Acres  CHAS    NOX  Avg_rooms   \\\n",
              "0     0.06860              0.0              2.89     0  0.445       7.416   \n",
              "1     0.14866              0.0              8.56     0  0.520       6.727   \n",
              "2     0.11432              0.0              8.56     0  0.520       6.781   \n",
              "3     0.22876              0.0              8.56     0  0.520       6.405   \n",
              "4     0.21161              0.0              8.56     0  0.520       6.137   \n",
              "\n",
              "    AGE  Distance  RAD  Property_TaxRate  PTRATIO       B  LSTAT  MValue  \n",
              "0  62.5    3.4952    2               276     18.0  396.90   6.19    33.2  \n",
              "1  79.9    2.7778    5               384     20.9  394.76   9.42    27.5  \n",
              "2  71.3    2.8561    5               384     20.9  395.58   7.67    26.5  \n",
              "3  85.4    2.7147    5               384     20.9   70.80  10.63    18.6  \n",
              "4  87.4    2.7147    5               384     20.9  394.47  13.44    19.3  "
            ]
          },
          "execution_count": 167,
          "metadata": {},
          "output_type": "execute_result"
        }
      ],
      "source": [
        "df.head()"
      ]
    },
    {
      "cell_type": "markdown",
      "metadata": {
        "id": "9p_X2RImO-RR"
      },
      "source": [
        "### Checking for missing values"
      ]
    },
    {
      "cell_type": "code",
      "execution_count": null,
      "metadata": {
        "colab": {
          "base_uri": "https://localhost:8080/"
        },
        "id": "Q-LFXlC9GGtj",
        "outputId": "9397d5ca-9fa0-4e5a-de8e-7b319930b37f"
      },
      "outputs": [
        {
          "data": {
            "text/plain": [
              "Crime_Rate          0\n",
              "Zone_proportion     0\n",
              "Non_Retail_Acres    0\n",
              "CHAS                0\n",
              "NOX                 0\n",
              "Avg_rooms           0\n",
              "AGE                 0\n",
              "Distance            0\n",
              "RAD                 0\n",
              "Property_TaxRate    0\n",
              "PTRATIO             0\n",
              "B                   0\n",
              "LSTAT               0\n",
              "MValue              0\n",
              "dtype: int64"
            ]
          },
          "execution_count": 168,
          "metadata": {},
          "output_type": "execute_result"
        }
      ],
      "source": [
        "df.isnull().sum()"
      ]
    },
    {
      "cell_type": "markdown",
      "metadata": {
        "id": "YQeqRcoNq6na"
      },
      "source": [
        "No missing value"
      ]
    },
    {
      "cell_type": "code",
      "execution_count": null,
      "metadata": {
        "id": "lbQ1RT81O-RS",
        "outputId": "02d8cca5-704c-4121-af96-2824c772ab78"
      },
      "outputs": [
        {
          "data": {
            "text/plain": [
              "Index(['Crime_Rate', 'Zone_proportion', 'Non_Retail_Acres', 'CHAS', 'NOX',\n",
              "       'Avg_rooms ', 'AGE', 'Distance', 'RAD', 'Property_TaxRate', 'PTRATIO',\n",
              "       'B', 'LSTAT', 'MValue'],\n",
              "      dtype='object')"
            ]
          },
          "execution_count": 169,
          "metadata": {},
          "output_type": "execute_result"
        }
      ],
      "source": [
        "df.columns"
      ]
    },
    {
      "cell_type": "markdown",
      "metadata": {
        "id": "gzDddCwtrDER"
      },
      "source": [
        "Visualization of the association between Average Rooms and M-Value"
      ]
    },
    {
      "cell_type": "code",
      "execution_count": null,
      "metadata": {
        "colab": {
          "base_uri": "https://localhost:8080/",
          "height": 472
        },
        "id": "wbtnUPuSMEyD",
        "outputId": "fa04e05a-7554-4b71-b1fc-da21e1c563e3"
      },
      "outputs": [
        {
          "data": {
            "image/png": "[encoded data removed]",
            "text/plain": [
              "<Figure size 640x480 with 1 Axes>"
            ]
          },
          "metadata": {},
          "output_type": "display_data"
        }
      ],
      "source": [
        "plt.scatter(df['Avg_rooms '], df['MValue'])\n",
        "plt.xlabel(\"Avg_rooms\")\n",
        "plt.ylabel(\"MValue\")\n",
        "plt.title(\"Association between Average Rooms and M-Value\")\n",
        "plt.show()"
      ]
    },
    {
      "cell_type": "markdown",
      "metadata": {
        "id": "XkHQmTCQO-RS"
      },
      "source": [
        "We observe a linear relationship between the two variables, with the possible presence of some outliers."
      ]
    },
    {
      "cell_type": "code",
      "execution_count": null,
      "metadata": {
        "id": "YU0ewn-lO-RS"
      },
      "outputs": [],
      "source": [
        "from sklearn.model_selection import train_test_split\n",
        "from sklearn.linear_model import LinearRegression\n",
        "from sklearn.metrics import mean_absolute_error, mean_squared_error, r2_score, explained_variance_score\n",
        "from sklearn.preprocessing import MinMaxScaler, StandardScaler"
      ]
    },
    {
      "cell_type": "markdown",
      "metadata": {
        "id": "BHW7SdEYO-RS"
      },
      "source": [
        "#### Splitting the dataset into 70:30"
      ]
    },
    {
      "cell_type": "code",
      "execution_count": null,
      "metadata": {
        "id": "bWINGx-qO-RT"
      },
      "outputs": [],
      "source": [
        "X = df[['Avg_rooms ']]\n",
        "Y = df['MValue']\n",
        "x_train, x_test, y_train, y_test = train_test_split(X, Y, test_size=0.3, random_state=42)\n"
      ]
    },
    {
      "cell_type": "code",
      "execution_count": null,
      "metadata": {
        "id": "VcIjOVszO-RT",
        "outputId": "9be4ca45-c5e6-44bb-f4ea-be49fae18d89"
      },
      "outputs": [
        {
          "data": {
            "text/html": [
              "<style>#sk-container-id-7 {color: black;}#sk-container-id-7 pre{padding: 0;}#sk-container-id-7 div.sk-toggleable {background-color: white;}#sk-container-id-7 label.sk-toggleable__label {cursor: pointer;display: block;width: 100%;margin-bottom: 0;padding: 0.3em;box-sizing: border-box;text-align: center;}#sk-container-id-7 label.sk-toggleable__label-arrow:before {content: \"▸\";float: left;margin-right: 0.25em;color: #696969;}#sk-container-id-7 label.sk-toggleable__label-arrow:hover:before {color: black;}#sk-container-id-7 div.sk-estimator:hover label.sk-toggleable__label-arrow:before {color: black;}#sk-container-id-7 div.sk-toggleable__content {max-height: 0;max-width: 0;overflow: hidden;text-align: left;background-color: #f0f8ff;}#sk-container-id-7 div.sk-toggleable__content pre {margin: 0.2em;color: black;border-radius: 0.25em;background-color: #f0f8ff;}#sk-container-id-7 input.sk-toggleable__control:checked~div.sk-toggleable__content {max-height: 200px;max-width: 100%;overflow: auto;}#sk-container-id-7 input.sk-toggleable__control:checked~label.sk-toggleable__label-arrow:before {content: \"▾\";}#sk-container-id-7 div.sk-estimator input.sk-toggleable__control:checked~label.sk-toggleable__label {background-color: #d4ebff;}#sk-container-id-7 div.sk-label input.sk-toggleable__control:checked~label.sk-toggleable__label {background-color: #d4ebff;}#sk-container-id-7 input.sk-hidden--visually {border: 0;clip: rect(1px 1px 1px 1px);clip: rect(1px, 1px, 1px, 1px);height: 1px;margin: -1px;overflow: hidden;padding: 0;position: absolute;width: 1px;}#sk-container-id-7 div.sk-estimator {font-family: monospace;background-color: #f0f8ff;border: 1px dotted black;border-radius: 0.25em;box-sizing: border-box;margin-bottom: 0.5em;}#sk-container-id-7 div.sk-estimator:hover {background-color: #d4ebff;}#sk-container-id-7 div.sk-parallel-item::after {content: \"\";width: 100%;border-bottom: 1px solid gray;flex-grow: 1;}#sk-container-id-7 div.sk-label:hover label.sk-toggleable__label {background-color: #d4ebff;}#sk-container-id-7 div.sk-serial::before {content: \"\";position: absolute;border-left: 1px solid gray;box-sizing: border-box;top: 0;bottom: 0;left: 50%;z-index: 0;}#sk-container-id-7 div.sk-serial {display: flex;flex-direction: column;align-items: center;background-color: white;padding-right: 0.2em;padding-left: 0.2em;position: relative;}#sk-container-id-7 div.sk-item {position: relative;z-index: 1;}#sk-container-id-7 div.sk-parallel {display: flex;align-items: stretch;justify-content: center;background-color: white;position: relative;}#sk-container-id-7 div.sk-item::before, #sk-container-id-7 div.sk-parallel-item::before {content: \"\";position: absolute;border-left: 1px solid gray;box-sizing: border-box;top: 0;bottom: 0;left: 50%;z-index: -1;}#sk-container-id-7 div.sk-parallel-item {display: flex;flex-direction: column;z-index: 1;position: relative;background-color: white;}#sk-container-id-7 div.sk-parallel-item:first-child::after {align-self: flex-end;width: 50%;}#sk-container-id-7 div.sk-parallel-item:last-child::after {align-self: flex-start;width: 50%;}#sk-container-id-7 div.sk-parallel-item:only-child::after {width: 0;}#sk-container-id-7 div.sk-dashed-wrapped {border: 1px dashed gray;margin: 0 0.4em 0.5em 0.4em;box-sizing: border-box;padding-bottom: 0.4em;background-color: white;}#sk-container-id-7 div.sk-label label {font-family: monospace;font-weight: bold;display: inline-block;line-height: 1.2em;}#sk-container-id-7 div.sk-label-container {text-align: center;}#sk-container-id-7 div.sk-container {/* jupyter's `normalize.less` sets `[hidden] { display: none; }` but bootstrap.min.css set `[hidden] { display: none !important; }` so we also need the `!important` here to be able to override the default hidden behavior on the sphinx rendered scikit-learn.org. See: https://github.com/scikit-learn/scikit-learn/issues/21755 */display: inline-block !important;position: relative;}#sk-container-id-7 div.sk-text-repr-fallback {display: none;}</style><div id=\"sk-container-id-7\" class=\"sk-top-container\"><div class=\"sk-text-repr-fallback\"><pre>LinearRegression()</pre><b>In a Jupyter environment, please rerun this cell to show the HTML representation or trust the notebook. <br />On GitHub, the HTML representation is unable to render, please try loading this page with nbviewer.org.</b></div><div class=\"sk-container\" hidden><div class=\"sk-item\"><div class=\"sk-estimator sk-toggleable\"><input class=\"sk-toggleable__control sk-hidden--visually\" id=\"sk-estimator-id-7\" type=\"checkbox\" checked><label for=\"sk-estimator-id-7\" class=\"sk-toggleable__label sk-toggleable__label-arrow\">LinearRegression</label><div class=\"sk-toggleable__content\"><pre>LinearRegression()</pre></div></div></div></div></div>"
            ],
            "text/plain": [
              "LinearRegression()"
            ]
          },
          "execution_count": 173,
          "metadata": {},
          "output_type": "execute_result"
        }
      ],
      "source": [
        "model = LinearRegression()\n",
        "model.fit(x_train, y_train)"
      ]
    },
    {
      "cell_type": "markdown",
      "metadata": {
        "id": "5pmb20GnO-RT"
      },
      "source": [
        "Printing the Model parameters."
      ]
    },
    {
      "cell_type": "code",
      "execution_count": null,
      "metadata": {
        "id": "xnPOsuRkO-RT",
        "outputId": "cc055e9f-63a3-4687-9f82-a4ead619668c"
      },
      "outputs": [
        {
          "name": "stdout",
          "output_type": "stream",
          "text": [
            "Intercept: -33.510147597513345\n",
            "Coefficients [8.92620222]\n"
          ]
        }
      ],
      "source": [
        "print('Intercept:',model.intercept_)\n",
        "print('Coefficients',model.coef_)"
      ]
    },
    {
      "cell_type": "markdown",
      "metadata": {
        "id": "i41LDyvxO-RT"
      },
      "source": [
        "This means that with every one unit increase in Avg_rooms, the median value increases by around $8,926"
      ]
    },
    {
      "cell_type": "markdown",
      "metadata": {
        "id": "aHMxA0WlO-RT"
      },
      "source": [
        "Storing the predicted Y test values"
      ]
    },
    {
      "cell_type": "code",
      "execution_count": null,
      "metadata": {
        "id": "kTSSZF1mO-RT"
      },
      "outputs": [],
      "source": [
        "y_pred = model.predict(x_test)"
      ]
    },
    {
      "cell_type": "code",
      "execution_count": null,
      "metadata": {
        "id": "ysMq5lylO-RT",
        "outputId": "b3465084-a988-4c63-c793-f2786174fc33"
      },
      "outputs": [
        {
          "data": {
            "image/png": "[encoded data removed]",
            "text/plain": [
              "<Figure size 640x480 with 1 Axes>"
            ]
          },
          "metadata": {},
          "output_type": "display_data"
        }
      ],
      "source": [
        "fig, ax = plt.subplots()\n",
        "ax.scatter(x_test, y_test, label='Actual MValue')\n",
        "ax.plot(df1['Avg_rooms '],df1['Pred_MValue'],color='red',label='Best Fit Line')\n",
        "ax.set_ylabel('MValue')\n",
        "ax.set_xlabel('Avg_rooms')\n",
        "ax.set_title('Best Fit Model Line on Training Data')\n",
        "ax.legend()\n",
        "plt.show()"
      ]
    },
    {
      "cell_type": "code",
      "execution_count": null,
      "metadata": {
        "id": "UZafQNGYO-RU"
      },
      "outputs": [],
      "source": [
        "mse = mean_squared_error(y_test, y_pred)\n",
        "r2 = r2_score(y_test, y_pred)"
      ]
    },
    {
      "cell_type": "code",
      "execution_count": null,
      "metadata": {
        "id": "orEJn1gbO-RU",
        "outputId": "87f6f1a6-a219-4e6d-e123-4153e2505915"
      },
      "outputs": [
        {
          "name": "stdout",
          "output_type": "stream",
          "text": [
            "(TESTING) Mean Squared Error (MSE): 33.85\n",
            "(TESTING) R-squared (R2) Score: 0.54\n"
          ]
        }
      ],
      "source": [
        "print(f'(TESTING) Mean Squared Error (MSE): {mse:.2f}')\n",
        "print(f'(TESTING) R-squared (R2) Score: {r2:.2f}')\n"
      ]
    },
    {
      "cell_type": "code",
      "execution_count": null,
      "metadata": {
        "id": "3NyjdQ2kO-RU"
      },
      "outputs": [],
      "source": [
        "y_pred = model.predict(x_train)\n",
        "mse = mean_squared_error(y_train, y_pred)\n",
        "r2 = r2_score(y_train, y_pred)"
      ]
    },
    {
      "cell_type": "code",
      "execution_count": null,
      "metadata": {
        "id": "lcVl2azgO-RU",
        "outputId": "2de13689-64a4-4681-e00e-8e283ef2a669"
      },
      "outputs": [
        {
          "name": "stdout",
          "output_type": "stream",
          "text": [
            "(TRAINING) Mean Squared Error (MSE): 47.81\n",
            "(TRAINING) R-squared (R2) Score: 0.46\n"
          ]
        }
      ],
      "source": [
        "print(f'(TRAINING) Mean Squared Error (MSE): {mse:.2f}')\n",
        "print(f'(TRAINING) R-squared (R2) Score: {r2:.2f}')\n"
      ]
    },
    {
      "cell_type": "markdown",
      "metadata": {
        "id": "wnVSp626O-RU"
      },
      "source": [
        "We observe that the model performs better on the testing data than the training data???"
      ]
    },
    {
      "cell_type": "markdown",
      "metadata": {
        "id": "M0kEtpRyO-RU"
      },
      "source": [
        "We observe that the model performs better on the training data than the testing data."
      ]
    }
  ],
  "metadata": {
    "colab": {
      "provenance": [],
      "include_colab_link": true
    },
    "kernelspec": {
      "display_name": "Python 3",
      "name": "python3"
    },
    "language_info": {
      "codemirror_mode": {
        "name": "ipython",
        "version": 3
      },
      "file_extension": ".py",
      "mimetype": "text/x-python",
      "name": "python",
      "nbconvert_exporter": "python",
      "pygments_lexer": "ipython3",
      "version": "3.11.4"
    }
  },
  "nbformat": 4,
  "nbformat_minor": 0
}
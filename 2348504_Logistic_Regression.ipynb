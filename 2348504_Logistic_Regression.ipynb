{
  "cells": [
    {
      "cell_type": "markdown",
      "metadata": {
        "id": "view-in-github",
        "colab_type": "text"
      },
      "source": [
        "<a href=\"https://colab.research.google.com/github/anushChrist/AML_Lab/blob/main/2348504_Logistic_Regression.ipynb\" target=\"_parent\"><img src=\"https://colab.research.google.com/assets/colab-badge.svg\" alt=\"Open In Colab\"/></a>"
      ]
    },
    {
      "cell_type": "markdown",
      "id": "fdcc1c7f",
      "metadata": {
        "id": "fdcc1c7f",
        "papermill": {
          "duration": 0.008271,
          "end_time": "2023-10-12T09:46:33.156182",
          "exception": false,
          "start_time": "2023-10-12T09:46:33.147911",
          "status": "completed"
        },
        "tags": []
      },
      "source": [
        "# Logistic regression\n"
      ]
    },
    {
      "cell_type": "code",
      "execution_count": null,
      "id": "5878635a",
      "metadata": {
        "execution": {
          "iopub.execute_input": "2023-10-12T09:46:33.189602Z",
          "iopub.status.busy": "2023-10-12T09:46:33.189206Z",
          "iopub.status.idle": "2023-10-12T09:46:35.385860Z",
          "shell.execute_reply": "2023-10-12T09:46:35.384941Z"
        },
        "id": "5878635a",
        "papermill": {
          "duration": 2.20867,
          "end_time": "2023-10-12T09:46:35.388203",
          "exception": false,
          "start_time": "2023-10-12T09:46:33.179533",
          "status": "completed"
        },
        "tags": []
      },
      "outputs": [],
      "source": [
        "import numpy as np\n",
        "import pandas as pd\n",
        "from sklearn.preprocessing import OneHotEncoder\n",
        "from sklearn.model_selection import train_test_split\n",
        "from sklearn.linear_model import LogisticRegression\n",
        "import sklearn.metrics as metrics\n",
        "import matplotlib.pyplot as plt\n",
        "import seaborn as sns"
      ]
    },
    {
      "cell_type": "markdown",
      "id": "a79a4c36",
      "metadata": {
        "id": "a79a4c36",
        "papermill": {
          "duration": 0.008614,
          "end_time": "2023-10-12T09:46:35.405083",
          "exception": false,
          "start_time": "2023-10-12T09:46:35.396469",
          "status": "completed"
        },
        "tags": []
      },
      "source": [
        "### Load the dataset"
      ]
    },
    {
      "cell_type": "code",
      "execution_count": null,
      "id": "4a2be651",
      "metadata": {
        "execution": {
          "iopub.execute_input": "2023-10-12T09:46:35.422676Z",
          "iopub.status.busy": "2023-10-12T09:46:35.422178Z",
          "iopub.status.idle": "2023-10-12T09:46:35.797037Z",
          "shell.execute_reply": "2023-10-12T09:46:35.796152Z"
        },
        "id": "4a2be651",
        "papermill": {
          "duration": 0.386227,
          "end_time": "2023-10-12T09:46:35.799255",
          "exception": false,
          "start_time": "2023-10-12T09:46:35.413028",
          "status": "completed"
        },
        "tags": []
      },
      "outputs": [],
      "source": [
        "df_original = pd.read_csv(r\"Invistico_Airline.csv\")"
      ]
    },
    {
      "cell_type": "code",
      "execution_count": null,
      "id": "c3456a44",
      "metadata": {
        "execution": {
          "iopub.execute_input": "2023-10-12T09:46:35.835081Z",
          "iopub.status.busy": "2023-10-12T09:46:35.834154Z",
          "iopub.status.idle": "2023-10-12T09:46:35.871179Z",
          "shell.execute_reply": "2023-10-12T09:46:35.870470Z"
        },
        "id": "c3456a44",
        "outputId": "f365e435-67f3-40e6-a91f-114e1060cbc8",
        "papermill": {
          "duration": 0.048382,
          "end_time": "2023-10-12T09:46:35.873168",
          "exception": false,
          "start_time": "2023-10-12T09:46:35.824786",
          "status": "completed"
        },
        "tags": []
      },
      "outputs": [
        {
          "data": {
            "text/html": [
              "<div>\n",
              "<style scoped>\n",
              "    .dataframe tbody tr th:only-of-type {\n",
              "        vertical-align: middle;\n",
              "    }\n",
              "\n",
              "    .dataframe tbody tr th {\n",
              "        vertical-align: top;\n",
              "    }\n",
              "\n",
              "    .dataframe thead th {\n",
              "        text-align: right;\n",
              "    }\n",
              "</style>\n",
              "<table border=\"1\" class=\"dataframe\">\n",
              "  <thead>\n",
              "    <tr style=\"text-align: right;\">\n",
              "      <th></th>\n",
              "      <th>satisfaction</th>\n",
              "      <th>Customer Type</th>\n",
              "      <th>Age</th>\n",
              "      <th>Type of Travel</th>\n",
              "      <th>Class</th>\n",
              "      <th>Flight Distance</th>\n",
              "      <th>Seat comfort</th>\n",
              "      <th>Departure/Arrival time convenient</th>\n",
              "      <th>Food and drink</th>\n",
              "      <th>Gate location</th>\n",
              "      <th>...</th>\n",
              "      <th>Online support</th>\n",
              "      <th>Ease of Online booking</th>\n",
              "      <th>On-board service</th>\n",
              "      <th>Leg room service</th>\n",
              "      <th>Baggage handling</th>\n",
              "      <th>Checkin service</th>\n",
              "      <th>Cleanliness</th>\n",
              "      <th>Online boarding</th>\n",
              "      <th>Departure Delay in Minutes</th>\n",
              "      <th>Arrival Delay in Minutes</th>\n",
              "    </tr>\n",
              "  </thead>\n",
              "  <tbody>\n",
              "    <tr>\n",
              "      <th>0</th>\n",
              "      <td>satisfied</td>\n",
              "      <td>Loyal Customer</td>\n",
              "      <td>65</td>\n",
              "      <td>Personal Travel</td>\n",
              "      <td>Eco</td>\n",
              "      <td>265</td>\n",
              "      <td>0</td>\n",
              "      <td>0</td>\n",
              "      <td>0</td>\n",
              "      <td>2</td>\n",
              "      <td>...</td>\n",
              "      <td>2</td>\n",
              "      <td>3</td>\n",
              "      <td>3</td>\n",
              "      <td>0</td>\n",
              "      <td>3</td>\n",
              "      <td>5</td>\n",
              "      <td>3</td>\n",
              "      <td>2</td>\n",
              "      <td>0</td>\n",
              "      <td>0.0</td>\n",
              "    </tr>\n",
              "    <tr>\n",
              "      <th>1</th>\n",
              "      <td>satisfied</td>\n",
              "      <td>Loyal Customer</td>\n",
              "      <td>47</td>\n",
              "      <td>Personal Travel</td>\n",
              "      <td>Business</td>\n",
              "      <td>2464</td>\n",
              "      <td>0</td>\n",
              "      <td>0</td>\n",
              "      <td>0</td>\n",
              "      <td>3</td>\n",
              "      <td>...</td>\n",
              "      <td>2</td>\n",
              "      <td>3</td>\n",
              "      <td>4</td>\n",
              "      <td>4</td>\n",
              "      <td>4</td>\n",
              "      <td>2</td>\n",
              "      <td>3</td>\n",
              "      <td>2</td>\n",
              "      <td>310</td>\n",
              "      <td>305.0</td>\n",
              "    </tr>\n",
              "    <tr>\n",
              "      <th>2</th>\n",
              "      <td>satisfied</td>\n",
              "      <td>Loyal Customer</td>\n",
              "      <td>15</td>\n",
              "      <td>Personal Travel</td>\n",
              "      <td>Eco</td>\n",
              "      <td>2138</td>\n",
              "      <td>0</td>\n",
              "      <td>0</td>\n",
              "      <td>0</td>\n",
              "      <td>3</td>\n",
              "      <td>...</td>\n",
              "      <td>2</td>\n",
              "      <td>2</td>\n",
              "      <td>3</td>\n",
              "      <td>3</td>\n",
              "      <td>4</td>\n",
              "      <td>4</td>\n",
              "      <td>4</td>\n",
              "      <td>2</td>\n",
              "      <td>0</td>\n",
              "      <td>0.0</td>\n",
              "    </tr>\n",
              "    <tr>\n",
              "      <th>3</th>\n",
              "      <td>satisfied</td>\n",
              "      <td>Loyal Customer</td>\n",
              "      <td>60</td>\n",
              "      <td>Personal Travel</td>\n",
              "      <td>Eco</td>\n",
              "      <td>623</td>\n",
              "      <td>0</td>\n",
              "      <td>0</td>\n",
              "      <td>0</td>\n",
              "      <td>3</td>\n",
              "      <td>...</td>\n",
              "      <td>3</td>\n",
              "      <td>1</td>\n",
              "      <td>1</td>\n",
              "      <td>0</td>\n",
              "      <td>1</td>\n",
              "      <td>4</td>\n",
              "      <td>1</td>\n",
              "      <td>3</td>\n",
              "      <td>0</td>\n",
              "      <td>0.0</td>\n",
              "    </tr>\n",
              "    <tr>\n",
              "      <th>4</th>\n",
              "      <td>satisfied</td>\n",
              "      <td>Loyal Customer</td>\n",
              "      <td>70</td>\n",
              "      <td>Personal Travel</td>\n",
              "      <td>Eco</td>\n",
              "      <td>354</td>\n",
              "      <td>0</td>\n",
              "      <td>0</td>\n",
              "      <td>0</td>\n",
              "      <td>3</td>\n",
              "      <td>...</td>\n",
              "      <td>4</td>\n",
              "      <td>2</td>\n",
              "      <td>2</td>\n",
              "      <td>0</td>\n",
              "      <td>2</td>\n",
              "      <td>4</td>\n",
              "      <td>2</td>\n",
              "      <td>5</td>\n",
              "      <td>0</td>\n",
              "      <td>0.0</td>\n",
              "    </tr>\n",
              "    <tr>\n",
              "      <th>5</th>\n",
              "      <td>satisfied</td>\n",
              "      <td>Loyal Customer</td>\n",
              "      <td>30</td>\n",
              "      <td>Personal Travel</td>\n",
              "      <td>Eco</td>\n",
              "      <td>1894</td>\n",
              "      <td>0</td>\n",
              "      <td>0</td>\n",
              "      <td>0</td>\n",
              "      <td>3</td>\n",
              "      <td>...</td>\n",
              "      <td>2</td>\n",
              "      <td>2</td>\n",
              "      <td>5</td>\n",
              "      <td>4</td>\n",
              "      <td>5</td>\n",
              "      <td>5</td>\n",
              "      <td>4</td>\n",
              "      <td>2</td>\n",
              "      <td>0</td>\n",
              "      <td>0.0</td>\n",
              "    </tr>\n",
              "    <tr>\n",
              "      <th>6</th>\n",
              "      <td>satisfied</td>\n",
              "      <td>Loyal Customer</td>\n",
              "      <td>66</td>\n",
              "      <td>Personal Travel</td>\n",
              "      <td>Eco</td>\n",
              "      <td>227</td>\n",
              "      <td>0</td>\n",
              "      <td>0</td>\n",
              "      <td>0</td>\n",
              "      <td>3</td>\n",
              "      <td>...</td>\n",
              "      <td>5</td>\n",
              "      <td>5</td>\n",
              "      <td>5</td>\n",
              "      <td>0</td>\n",
              "      <td>5</td>\n",
              "      <td>5</td>\n",
              "      <td>5</td>\n",
              "      <td>3</td>\n",
              "      <td>17</td>\n",
              "      <td>15.0</td>\n",
              "    </tr>\n",
              "    <tr>\n",
              "      <th>7</th>\n",
              "      <td>satisfied</td>\n",
              "      <td>Loyal Customer</td>\n",
              "      <td>10</td>\n",
              "      <td>Personal Travel</td>\n",
              "      <td>Eco</td>\n",
              "      <td>1812</td>\n",
              "      <td>0</td>\n",
              "      <td>0</td>\n",
              "      <td>0</td>\n",
              "      <td>3</td>\n",
              "      <td>...</td>\n",
              "      <td>2</td>\n",
              "      <td>2</td>\n",
              "      <td>3</td>\n",
              "      <td>3</td>\n",
              "      <td>4</td>\n",
              "      <td>5</td>\n",
              "      <td>4</td>\n",
              "      <td>2</td>\n",
              "      <td>0</td>\n",
              "      <td>0.0</td>\n",
              "    </tr>\n",
              "    <tr>\n",
              "      <th>8</th>\n",
              "      <td>satisfied</td>\n",
              "      <td>Loyal Customer</td>\n",
              "      <td>56</td>\n",
              "      <td>Personal Travel</td>\n",
              "      <td>Business</td>\n",
              "      <td>73</td>\n",
              "      <td>0</td>\n",
              "      <td>0</td>\n",
              "      <td>0</td>\n",
              "      <td>3</td>\n",
              "      <td>...</td>\n",
              "      <td>5</td>\n",
              "      <td>4</td>\n",
              "      <td>4</td>\n",
              "      <td>0</td>\n",
              "      <td>1</td>\n",
              "      <td>5</td>\n",
              "      <td>4</td>\n",
              "      <td>4</td>\n",
              "      <td>0</td>\n",
              "      <td>0.0</td>\n",
              "    </tr>\n",
              "    <tr>\n",
              "      <th>9</th>\n",
              "      <td>satisfied</td>\n",
              "      <td>Loyal Customer</td>\n",
              "      <td>22</td>\n",
              "      <td>Personal Travel</td>\n",
              "      <td>Eco</td>\n",
              "      <td>1556</td>\n",
              "      <td>0</td>\n",
              "      <td>0</td>\n",
              "      <td>0</td>\n",
              "      <td>3</td>\n",
              "      <td>...</td>\n",
              "      <td>2</td>\n",
              "      <td>2</td>\n",
              "      <td>2</td>\n",
              "      <td>4</td>\n",
              "      <td>5</td>\n",
              "      <td>3</td>\n",
              "      <td>4</td>\n",
              "      <td>2</td>\n",
              "      <td>30</td>\n",
              "      <td>26.0</td>\n",
              "    </tr>\n",
              "  </tbody>\n",
              "</table>\n",
              "<p>10 rows × 22 columns</p>\n",
              "</div>"
            ],
            "text/plain": [
              "  satisfaction   Customer Type  Age   Type of Travel     Class  \\\n",
              "0    satisfied  Loyal Customer   65  Personal Travel       Eco   \n",
              "1    satisfied  Loyal Customer   47  Personal Travel  Business   \n",
              "2    satisfied  Loyal Customer   15  Personal Travel       Eco   \n",
              "3    satisfied  Loyal Customer   60  Personal Travel       Eco   \n",
              "4    satisfied  Loyal Customer   70  Personal Travel       Eco   \n",
              "5    satisfied  Loyal Customer   30  Personal Travel       Eco   \n",
              "6    satisfied  Loyal Customer   66  Personal Travel       Eco   \n",
              "7    satisfied  Loyal Customer   10  Personal Travel       Eco   \n",
              "8    satisfied  Loyal Customer   56  Personal Travel  Business   \n",
              "9    satisfied  Loyal Customer   22  Personal Travel       Eco   \n",
              "\n",
              "   Flight Distance  Seat comfort  Departure/Arrival time convenient  \\\n",
              "0              265             0                                  0   \n",
              "1             2464             0                                  0   \n",
              "2             2138             0                                  0   \n",
              "3              623             0                                  0   \n",
              "4              354             0                                  0   \n",
              "5             1894             0                                  0   \n",
              "6              227             0                                  0   \n",
              "7             1812             0                                  0   \n",
              "8               73             0                                  0   \n",
              "9             1556             0                                  0   \n",
              "\n",
              "   Food and drink  Gate location  ...  Online support  Ease of Online booking  \\\n",
              "0               0              2  ...               2                       3   \n",
              "1               0              3  ...               2                       3   \n",
              "2               0              3  ...               2                       2   \n",
              "3               0              3  ...               3                       1   \n",
              "4               0              3  ...               4                       2   \n",
              "5               0              3  ...               2                       2   \n",
              "6               0              3  ...               5                       5   \n",
              "7               0              3  ...               2                       2   \n",
              "8               0              3  ...               5                       4   \n",
              "9               0              3  ...               2                       2   \n",
              "\n",
              "   On-board service  Leg room service  Baggage handling  Checkin service  \\\n",
              "0                 3                 0                 3                5   \n",
              "1                 4                 4                 4                2   \n",
              "2                 3                 3                 4                4   \n",
              "3                 1                 0                 1                4   \n",
              "4                 2                 0                 2                4   \n",
              "5                 5                 4                 5                5   \n",
              "6                 5                 0                 5                5   \n",
              "7                 3                 3                 4                5   \n",
              "8                 4                 0                 1                5   \n",
              "9                 2                 4                 5                3   \n",
              "\n",
              "   Cleanliness  Online boarding  Departure Delay in Minutes  \\\n",
              "0            3                2                           0   \n",
              "1            3                2                         310   \n",
              "2            4                2                           0   \n",
              "3            1                3                           0   \n",
              "4            2                5                           0   \n",
              "5            4                2                           0   \n",
              "6            5                3                          17   \n",
              "7            4                2                           0   \n",
              "8            4                4                           0   \n",
              "9            4                2                          30   \n",
              "\n",
              "   Arrival Delay in Minutes  \n",
              "0                       0.0  \n",
              "1                     305.0  \n",
              "2                       0.0  \n",
              "3                       0.0  \n",
              "4                       0.0  \n",
              "5                       0.0  \n",
              "6                      15.0  \n",
              "7                       0.0  \n",
              "8                       0.0  \n",
              "9                      26.0  \n",
              "\n",
              "[10 rows x 22 columns]"
            ]
          },
          "execution_count": 25,
          "metadata": {},
          "output_type": "execute_result"
        }
      ],
      "source": [
        "df_original.head(10)"
      ]
    },
    {
      "cell_type": "markdown",
      "id": "6561d915",
      "metadata": {
        "id": "6561d915",
        "papermill": {
          "duration": 0.008271,
          "end_time": "2023-10-12T09:46:35.906996",
          "exception": false,
          "start_time": "2023-10-12T09:46:35.898725",
          "status": "completed"
        },
        "tags": []
      },
      "source": [
        "### Explore the data"
      ]
    },
    {
      "cell_type": "code",
      "execution_count": null,
      "id": "39ad8a7c",
      "metadata": {
        "execution": {
          "iopub.execute_input": "2023-10-12T09:46:35.925620Z",
          "iopub.status.busy": "2023-10-12T09:46:35.925060Z",
          "iopub.status.idle": "2023-10-12T09:46:35.932007Z",
          "shell.execute_reply": "2023-10-12T09:46:35.931306Z"
        },
        "id": "39ad8a7c",
        "outputId": "66a61925-3259-46e5-837a-9a301e0fd7d9",
        "papermill": {
          "duration": 0.018306,
          "end_time": "2023-10-12T09:46:35.933783",
          "exception": false,
          "start_time": "2023-10-12T09:46:35.915477",
          "status": "completed"
        },
        "tags": []
      },
      "outputs": [
        {
          "data": {
            "text/plain": [
              "satisfaction                          object\n",
              "Customer Type                         object\n",
              "Age                                    int64\n",
              "Type of Travel                        object\n",
              "Class                                 object\n",
              "Flight Distance                        int64\n",
              "Seat comfort                           int64\n",
              "Departure/Arrival time convenient      int64\n",
              "Food and drink                         int64\n",
              "Gate location                          int64\n",
              "Inflight wifi service                  int64\n",
              "Inflight entertainment                 int64\n",
              "Online support                         int64\n",
              "Ease of Online booking                 int64\n",
              "On-board service                       int64\n",
              "Leg room service                       int64\n",
              "Baggage handling                       int64\n",
              "Checkin service                        int64\n",
              "Cleanliness                            int64\n",
              "Online boarding                        int64\n",
              "Departure Delay in Minutes             int64\n",
              "Arrival Delay in Minutes             float64\n",
              "dtype: object"
            ]
          },
          "execution_count": 26,
          "metadata": {},
          "output_type": "execute_result"
        }
      ],
      "source": [
        "df_original.dtypes"
      ]
    },
    {
      "cell_type": "markdown",
      "id": "5762f5e2",
      "metadata": {
        "id": "5762f5e2",
        "papermill": {
          "duration": 0.008275,
          "end_time": "2023-10-12T09:46:35.950978",
          "exception": false,
          "start_time": "2023-10-12T09:46:35.942703",
          "status": "completed"
        },
        "tags": []
      },
      "source": [
        "### Check the number of satisfied customers in the dataset\n",
        "\n",
        "To predict customer satisfaction, I need to know how many customers in the dataset are satisfied before modeling."
      ]
    },
    {
      "cell_type": "code",
      "execution_count": null,
      "id": "c5ff33fe",
      "metadata": {
        "execution": {
          "iopub.execute_input": "2023-10-12T09:46:35.969951Z",
          "iopub.status.busy": "2023-10-12T09:46:35.969344Z",
          "iopub.status.idle": "2023-10-12T09:46:35.987006Z",
          "shell.execute_reply": "2023-10-12T09:46:35.985769Z"
        },
        "id": "c5ff33fe",
        "outputId": "1f37051b-b528-4541-e158-449c8166771c",
        "papermill": {
          "duration": 0.029607,
          "end_time": "2023-10-12T09:46:35.989028",
          "exception": false,
          "start_time": "2023-10-12T09:46:35.959421",
          "status": "completed"
        },
        "tags": []
      },
      "outputs": [
        {
          "data": {
            "text/plain": [
              "satisfaction\n",
              "satisfied       71087\n",
              "dissatisfied    58793\n",
              "Name: count, dtype: int64"
            ]
          },
          "execution_count": 27,
          "metadata": {},
          "output_type": "execute_result"
        }
      ],
      "source": [
        "df_original['satisfaction'].value_counts(dropna = False)"
      ]
    },
    {
      "cell_type": "markdown",
      "id": "0c3c8ab3",
      "metadata": {
        "id": "0c3c8ab3",
        "papermill": {
          "duration": 0.008676,
          "end_time": "2023-10-12T09:46:36.064413",
          "exception": false,
          "start_time": "2023-10-12T09:46:36.055737",
          "status": "completed"
        },
        "tags": []
      },
      "source": [
        "**Key insights:**\n",
        "\n",
        "- There were 71,087 satisfied customers and 58,793 dissatisfied customers.\n",
        "- 54.7 percent (71,087/129,880) of customers were satisfied. While this is a simple calculation, this value can be compared to a logistic regression model's accuracy."
      ]
    },
    {
      "cell_type": "markdown",
      "id": "8042acf2",
      "metadata": {
        "id": "8042acf2",
        "papermill": {
          "duration": 0.008698,
          "end_time": "2023-10-12T09:46:36.084080",
          "exception": false,
          "start_time": "2023-10-12T09:46:36.075382",
          "status": "completed"
        },
        "tags": []
      },
      "source": [
        "### Check for missing values"
      ]
    },
    {
      "cell_type": "code",
      "execution_count": null,
      "id": "ab79831c",
      "metadata": {
        "execution": {
          "iopub.execute_input": "2023-10-12T09:46:36.121551Z",
          "iopub.status.busy": "2023-10-12T09:46:36.120585Z",
          "iopub.status.idle": "2023-10-12T09:46:36.154192Z",
          "shell.execute_reply": "2023-10-12T09:46:36.153143Z"
        },
        "id": "ab79831c",
        "outputId": "7655e129-199b-438a-fc89-e99becf9a378",
        "papermill": {
          "duration": 0.045955,
          "end_time": "2023-10-12T09:46:36.156462",
          "exception": false,
          "start_time": "2023-10-12T09:46:36.110507",
          "status": "completed"
        },
        "tags": []
      },
      "outputs": [
        {
          "data": {
            "text/plain": [
              "satisfaction                           0\n",
              "Customer Type                          0\n",
              "Age                                    0\n",
              "Type of Travel                         0\n",
              "Class                                  0\n",
              "Flight Distance                        0\n",
              "Seat comfort                           0\n",
              "Departure/Arrival time convenient      0\n",
              "Food and drink                         0\n",
              "Gate location                          0\n",
              "Inflight wifi service                  0\n",
              "Inflight entertainment                 0\n",
              "Online support                         0\n",
              "Ease of Online booking                 0\n",
              "On-board service                       0\n",
              "Leg room service                       0\n",
              "Baggage handling                       0\n",
              "Checkin service                        0\n",
              "Cleanliness                            0\n",
              "Online boarding                        0\n",
              "Departure Delay in Minutes             0\n",
              "Arrival Delay in Minutes             393\n",
              "dtype: int64"
            ]
          },
          "execution_count": 28,
          "metadata": {},
          "output_type": "execute_result"
        }
      ],
      "source": [
        "df_original.isnull().sum()"
      ]
    },
    {
      "cell_type": "code",
      "execution_count": null,
      "id": "5d73a5f6",
      "metadata": {
        "execution": {
          "iopub.execute_input": "2023-10-12T09:46:36.213153Z",
          "iopub.status.busy": "2023-10-12T09:46:36.212531Z",
          "iopub.status.idle": "2023-10-12T09:46:36.263609Z",
          "shell.execute_reply": "2023-10-12T09:46:36.262722Z"
        },
        "id": "5d73a5f6",
        "papermill": {
          "duration": 0.063693,
          "end_time": "2023-10-12T09:46:36.265840",
          "exception": false,
          "start_time": "2023-10-12T09:46:36.202147",
          "status": "completed"
        },
        "tags": []
      },
      "outputs": [],
      "source": [
        "df = df_original.dropna(axis=0).reset_index(drop = True)"
      ]
    },
    {
      "cell_type": "code",
      "execution_count": null,
      "id": "6a7f7715",
      "metadata": {
        "execution": {
          "iopub.execute_input": "2023-10-12T09:46:36.303992Z",
          "iopub.status.busy": "2023-10-12T09:46:36.303105Z",
          "iopub.status.idle": "2023-10-12T09:46:36.321391Z",
          "shell.execute_reply": "2023-10-12T09:46:36.320558Z"
        },
        "id": "6a7f7715",
        "papermill": {
          "duration": 0.030572,
          "end_time": "2023-10-12T09:46:36.323487",
          "exception": false,
          "start_time": "2023-10-12T09:46:36.292915",
          "status": "completed"
        },
        "tags": []
      },
      "outputs": [],
      "source": [
        "df = df.astype({\"Inflight entertainment\": float})"
      ]
    },
    {
      "cell_type": "markdown",
      "id": "f8b01242",
      "metadata": {
        "id": "f8b01242",
        "papermill": {
          "duration": 0.009166,
          "end_time": "2023-10-12T09:46:36.341937",
          "exception": false,
          "start_time": "2023-10-12T09:46:36.332771",
          "status": "completed"
        },
        "tags": []
      },
      "source": [
        "### Convert the categorical column satisfaction into numeric"
      ]
    },
    {
      "cell_type": "code",
      "execution_count": null,
      "id": "122ba2cf",
      "metadata": {
        "execution": {
          "iopub.execute_input": "2023-10-12T09:46:36.362662Z",
          "iopub.status.busy": "2023-10-12T09:46:36.361844Z",
          "iopub.status.idle": "2023-10-12T09:46:36.412149Z",
          "shell.execute_reply": "2023-10-12T09:46:36.411052Z"
        },
        "id": "122ba2cf",
        "papermill": {
          "duration": 0.063027,
          "end_time": "2023-10-12T09:46:36.414613",
          "exception": false,
          "start_time": "2023-10-12T09:46:36.351586",
          "status": "completed"
        },
        "tags": []
      },
      "outputs": [],
      "source": [
        "df['satisfaction'] = OneHotEncoder(drop='first').fit_transform(df[['satisfaction']]).toarray()"
      ]
    },
    {
      "cell_type": "code",
      "execution_count": null,
      "id": "b693a73b",
      "metadata": {
        "execution": {
          "iopub.execute_input": "2023-10-12T09:46:36.454001Z",
          "iopub.status.busy": "2023-10-12T09:46:36.453209Z",
          "iopub.status.idle": "2023-10-12T09:46:36.473899Z",
          "shell.execute_reply": "2023-10-12T09:46:36.472823Z"
        },
        "id": "b693a73b",
        "outputId": "8ec0323a-6f7e-400d-df0c-3366ae6515bd",
        "papermill": {
          "duration": 0.032734,
          "end_time": "2023-10-12T09:46:36.475796",
          "exception": false,
          "start_time": "2023-10-12T09:46:36.443062",
          "status": "completed"
        },
        "scrolled": true,
        "tags": []
      },
      "outputs": [
        {
          "data": {
            "text/html": [
              "<div>\n",
              "<style scoped>\n",
              "    .dataframe tbody tr th:only-of-type {\n",
              "        vertical-align: middle;\n",
              "    }\n",
              "\n",
              "    .dataframe tbody tr th {\n",
              "        vertical-align: top;\n",
              "    }\n",
              "\n",
              "    .dataframe thead th {\n",
              "        text-align: right;\n",
              "    }\n",
              "</style>\n",
              "<table border=\"1\" class=\"dataframe\">\n",
              "  <thead>\n",
              "    <tr style=\"text-align: right;\">\n",
              "      <th></th>\n",
              "      <th>satisfaction</th>\n",
              "      <th>Customer Type</th>\n",
              "      <th>Age</th>\n",
              "      <th>Type of Travel</th>\n",
              "      <th>Class</th>\n",
              "      <th>Flight Distance</th>\n",
              "      <th>Seat comfort</th>\n",
              "      <th>Departure/Arrival time convenient</th>\n",
              "      <th>Food and drink</th>\n",
              "      <th>Gate location</th>\n",
              "      <th>...</th>\n",
              "      <th>Online support</th>\n",
              "      <th>Ease of Online booking</th>\n",
              "      <th>On-board service</th>\n",
              "      <th>Leg room service</th>\n",
              "      <th>Baggage handling</th>\n",
              "      <th>Checkin service</th>\n",
              "      <th>Cleanliness</th>\n",
              "      <th>Online boarding</th>\n",
              "      <th>Departure Delay in Minutes</th>\n",
              "      <th>Arrival Delay in Minutes</th>\n",
              "    </tr>\n",
              "  </thead>\n",
              "  <tbody>\n",
              "    <tr>\n",
              "      <th>0</th>\n",
              "      <td>1.0</td>\n",
              "      <td>Loyal Customer</td>\n",
              "      <td>65</td>\n",
              "      <td>Personal Travel</td>\n",
              "      <td>Eco</td>\n",
              "      <td>265</td>\n",
              "      <td>0</td>\n",
              "      <td>0</td>\n",
              "      <td>0</td>\n",
              "      <td>2</td>\n",
              "      <td>...</td>\n",
              "      <td>2</td>\n",
              "      <td>3</td>\n",
              "      <td>3</td>\n",
              "      <td>0</td>\n",
              "      <td>3</td>\n",
              "      <td>5</td>\n",
              "      <td>3</td>\n",
              "      <td>2</td>\n",
              "      <td>0</td>\n",
              "      <td>0.0</td>\n",
              "    </tr>\n",
              "    <tr>\n",
              "      <th>1</th>\n",
              "      <td>1.0</td>\n",
              "      <td>Loyal Customer</td>\n",
              "      <td>47</td>\n",
              "      <td>Personal Travel</td>\n",
              "      <td>Business</td>\n",
              "      <td>2464</td>\n",
              "      <td>0</td>\n",
              "      <td>0</td>\n",
              "      <td>0</td>\n",
              "      <td>3</td>\n",
              "      <td>...</td>\n",
              "      <td>2</td>\n",
              "      <td>3</td>\n",
              "      <td>4</td>\n",
              "      <td>4</td>\n",
              "      <td>4</td>\n",
              "      <td>2</td>\n",
              "      <td>3</td>\n",
              "      <td>2</td>\n",
              "      <td>310</td>\n",
              "      <td>305.0</td>\n",
              "    </tr>\n",
              "    <tr>\n",
              "      <th>2</th>\n",
              "      <td>1.0</td>\n",
              "      <td>Loyal Customer</td>\n",
              "      <td>15</td>\n",
              "      <td>Personal Travel</td>\n",
              "      <td>Eco</td>\n",
              "      <td>2138</td>\n",
              "      <td>0</td>\n",
              "      <td>0</td>\n",
              "      <td>0</td>\n",
              "      <td>3</td>\n",
              "      <td>...</td>\n",
              "      <td>2</td>\n",
              "      <td>2</td>\n",
              "      <td>3</td>\n",
              "      <td>3</td>\n",
              "      <td>4</td>\n",
              "      <td>4</td>\n",
              "      <td>4</td>\n",
              "      <td>2</td>\n",
              "      <td>0</td>\n",
              "      <td>0.0</td>\n",
              "    </tr>\n",
              "    <tr>\n",
              "      <th>3</th>\n",
              "      <td>1.0</td>\n",
              "      <td>Loyal Customer</td>\n",
              "      <td>60</td>\n",
              "      <td>Personal Travel</td>\n",
              "      <td>Eco</td>\n",
              "      <td>623</td>\n",
              "      <td>0</td>\n",
              "      <td>0</td>\n",
              "      <td>0</td>\n",
              "      <td>3</td>\n",
              "      <td>...</td>\n",
              "      <td>3</td>\n",
              "      <td>1</td>\n",
              "      <td>1</td>\n",
              "      <td>0</td>\n",
              "      <td>1</td>\n",
              "      <td>4</td>\n",
              "      <td>1</td>\n",
              "      <td>3</td>\n",
              "      <td>0</td>\n",
              "      <td>0.0</td>\n",
              "    </tr>\n",
              "    <tr>\n",
              "      <th>4</th>\n",
              "      <td>1.0</td>\n",
              "      <td>Loyal Customer</td>\n",
              "      <td>70</td>\n",
              "      <td>Personal Travel</td>\n",
              "      <td>Eco</td>\n",
              "      <td>354</td>\n",
              "      <td>0</td>\n",
              "      <td>0</td>\n",
              "      <td>0</td>\n",
              "      <td>3</td>\n",
              "      <td>...</td>\n",
              "      <td>4</td>\n",
              "      <td>2</td>\n",
              "      <td>2</td>\n",
              "      <td>0</td>\n",
              "      <td>2</td>\n",
              "      <td>4</td>\n",
              "      <td>2</td>\n",
              "      <td>5</td>\n",
              "      <td>0</td>\n",
              "      <td>0.0</td>\n",
              "    </tr>\n",
              "    <tr>\n",
              "      <th>5</th>\n",
              "      <td>1.0</td>\n",
              "      <td>Loyal Customer</td>\n",
              "      <td>30</td>\n",
              "      <td>Personal Travel</td>\n",
              "      <td>Eco</td>\n",
              "      <td>1894</td>\n",
              "      <td>0</td>\n",
              "      <td>0</td>\n",
              "      <td>0</td>\n",
              "      <td>3</td>\n",
              "      <td>...</td>\n",
              "      <td>2</td>\n",
              "      <td>2</td>\n",
              "      <td>5</td>\n",
              "      <td>4</td>\n",
              "      <td>5</td>\n",
              "      <td>5</td>\n",
              "      <td>4</td>\n",
              "      <td>2</td>\n",
              "      <td>0</td>\n",
              "      <td>0.0</td>\n",
              "    </tr>\n",
              "    <tr>\n",
              "      <th>6</th>\n",
              "      <td>1.0</td>\n",
              "      <td>Loyal Customer</td>\n",
              "      <td>66</td>\n",
              "      <td>Personal Travel</td>\n",
              "      <td>Eco</td>\n",
              "      <td>227</td>\n",
              "      <td>0</td>\n",
              "      <td>0</td>\n",
              "      <td>0</td>\n",
              "      <td>3</td>\n",
              "      <td>...</td>\n",
              "      <td>5</td>\n",
              "      <td>5</td>\n",
              "      <td>5</td>\n",
              "      <td>0</td>\n",
              "      <td>5</td>\n",
              "      <td>5</td>\n",
              "      <td>5</td>\n",
              "      <td>3</td>\n",
              "      <td>17</td>\n",
              "      <td>15.0</td>\n",
              "    </tr>\n",
              "    <tr>\n",
              "      <th>7</th>\n",
              "      <td>1.0</td>\n",
              "      <td>Loyal Customer</td>\n",
              "      <td>10</td>\n",
              "      <td>Personal Travel</td>\n",
              "      <td>Eco</td>\n",
              "      <td>1812</td>\n",
              "      <td>0</td>\n",
              "      <td>0</td>\n",
              "      <td>0</td>\n",
              "      <td>3</td>\n",
              "      <td>...</td>\n",
              "      <td>2</td>\n",
              "      <td>2</td>\n",
              "      <td>3</td>\n",
              "      <td>3</td>\n",
              "      <td>4</td>\n",
              "      <td>5</td>\n",
              "      <td>4</td>\n",
              "      <td>2</td>\n",
              "      <td>0</td>\n",
              "      <td>0.0</td>\n",
              "    </tr>\n",
              "    <tr>\n",
              "      <th>8</th>\n",
              "      <td>1.0</td>\n",
              "      <td>Loyal Customer</td>\n",
              "      <td>56</td>\n",
              "      <td>Personal Travel</td>\n",
              "      <td>Business</td>\n",
              "      <td>73</td>\n",
              "      <td>0</td>\n",
              "      <td>0</td>\n",
              "      <td>0</td>\n",
              "      <td>3</td>\n",
              "      <td>...</td>\n",
              "      <td>5</td>\n",
              "      <td>4</td>\n",
              "      <td>4</td>\n",
              "      <td>0</td>\n",
              "      <td>1</td>\n",
              "      <td>5</td>\n",
              "      <td>4</td>\n",
              "      <td>4</td>\n",
              "      <td>0</td>\n",
              "      <td>0.0</td>\n",
              "    </tr>\n",
              "    <tr>\n",
              "      <th>9</th>\n",
              "      <td>1.0</td>\n",
              "      <td>Loyal Customer</td>\n",
              "      <td>22</td>\n",
              "      <td>Personal Travel</td>\n",
              "      <td>Eco</td>\n",
              "      <td>1556</td>\n",
              "      <td>0</td>\n",
              "      <td>0</td>\n",
              "      <td>0</td>\n",
              "      <td>3</td>\n",
              "      <td>...</td>\n",
              "      <td>2</td>\n",
              "      <td>2</td>\n",
              "      <td>2</td>\n",
              "      <td>4</td>\n",
              "      <td>5</td>\n",
              "      <td>3</td>\n",
              "      <td>4</td>\n",
              "      <td>2</td>\n",
              "      <td>30</td>\n",
              "      <td>26.0</td>\n",
              "    </tr>\n",
              "  </tbody>\n",
              "</table>\n",
              "<p>10 rows × 22 columns</p>\n",
              "</div>"
            ],
            "text/plain": [
              "   satisfaction   Customer Type  Age   Type of Travel     Class  \\\n",
              "0           1.0  Loyal Customer   65  Personal Travel       Eco   \n",
              "1           1.0  Loyal Customer   47  Personal Travel  Business   \n",
              "2           1.0  Loyal Customer   15  Personal Travel       Eco   \n",
              "3           1.0  Loyal Customer   60  Personal Travel       Eco   \n",
              "4           1.0  Loyal Customer   70  Personal Travel       Eco   \n",
              "5           1.0  Loyal Customer   30  Personal Travel       Eco   \n",
              "6           1.0  Loyal Customer   66  Personal Travel       Eco   \n",
              "7           1.0  Loyal Customer   10  Personal Travel       Eco   \n",
              "8           1.0  Loyal Customer   56  Personal Travel  Business   \n",
              "9           1.0  Loyal Customer   22  Personal Travel       Eco   \n",
              "\n",
              "   Flight Distance  Seat comfort  Departure/Arrival time convenient  \\\n",
              "0              265             0                                  0   \n",
              "1             2464             0                                  0   \n",
              "2             2138             0                                  0   \n",
              "3              623             0                                  0   \n",
              "4              354             0                                  0   \n",
              "5             1894             0                                  0   \n",
              "6              227             0                                  0   \n",
              "7             1812             0                                  0   \n",
              "8               73             0                                  0   \n",
              "9             1556             0                                  0   \n",
              "\n",
              "   Food and drink  Gate location  ...  Online support  Ease of Online booking  \\\n",
              "0               0              2  ...               2                       3   \n",
              "1               0              3  ...               2                       3   \n",
              "2               0              3  ...               2                       2   \n",
              "3               0              3  ...               3                       1   \n",
              "4               0              3  ...               4                       2   \n",
              "5               0              3  ...               2                       2   \n",
              "6               0              3  ...               5                       5   \n",
              "7               0              3  ...               2                       2   \n",
              "8               0              3  ...               5                       4   \n",
              "9               0              3  ...               2                       2   \n",
              "\n",
              "   On-board service  Leg room service  Baggage handling  Checkin service  \\\n",
              "0                 3                 0                 3                5   \n",
              "1                 4                 4                 4                2   \n",
              "2                 3                 3                 4                4   \n",
              "3                 1                 0                 1                4   \n",
              "4                 2                 0                 2                4   \n",
              "5                 5                 4                 5                5   \n",
              "6                 5                 0                 5                5   \n",
              "7                 3                 3                 4                5   \n",
              "8                 4                 0                 1                5   \n",
              "9                 2                 4                 5                3   \n",
              "\n",
              "   Cleanliness  Online boarding  Departure Delay in Minutes  \\\n",
              "0            3                2                           0   \n",
              "1            3                2                         310   \n",
              "2            4                2                           0   \n",
              "3            1                3                           0   \n",
              "4            2                5                           0   \n",
              "5            4                2                           0   \n",
              "6            5                3                          17   \n",
              "7            4                2                           0   \n",
              "8            4                4                           0   \n",
              "9            4                2                          30   \n",
              "\n",
              "   Arrival Delay in Minutes  \n",
              "0                       0.0  \n",
              "1                     305.0  \n",
              "2                       0.0  \n",
              "3                       0.0  \n",
              "4                       0.0  \n",
              "5                       0.0  \n",
              "6                      15.0  \n",
              "7                       0.0  \n",
              "8                       0.0  \n",
              "9                      26.0  \n",
              "\n",
              "[10 rows x 22 columns]"
            ]
          },
          "execution_count": 32,
          "metadata": {},
          "output_type": "execute_result"
        }
      ],
      "source": [
        "df.head(10)"
      ]
    },
    {
      "cell_type": "markdown",
      "id": "eced9737",
      "metadata": {
        "id": "eced9737",
        "papermill": {
          "duration": 0.009439,
          "end_time": "2023-10-12T09:46:36.495276",
          "exception": false,
          "start_time": "2023-10-12T09:46:36.485837",
          "status": "completed"
        },
        "tags": []
      },
      "source": [
        "### Create the training and testing data\n"
      ]
    },
    {
      "cell_type": "code",
      "execution_count": null,
      "id": "5e2bde91",
      "metadata": {
        "execution": {
          "iopub.execute_input": "2023-10-12T09:46:36.516456Z",
          "iopub.status.busy": "2023-10-12T09:46:36.515825Z",
          "iopub.status.idle": "2023-10-12T09:46:36.530881Z",
          "shell.execute_reply": "2023-10-12T09:46:36.530090Z"
        },
        "id": "5e2bde91",
        "papermill": {
          "duration": 0.027827,
          "end_time": "2023-10-12T09:46:36.532795",
          "exception": false,
          "start_time": "2023-10-12T09:46:36.504968",
          "status": "completed"
        },
        "tags": []
      },
      "outputs": [],
      "source": [
        "X = df[[\"Inflight entertainment\"]]\n",
        "y = df[\"satisfaction\"]\n",
        "\n",
        "X_train, X_test, y_train, y_test = train_test_split(X,y, test_size=0.3, random_state=42)"
      ]
    },
    {
      "cell_type": "markdown",
      "id": "0ba7c7b0",
      "metadata": {
        "id": "0ba7c7b0",
        "papermill": {
          "duration": 0.009357,
          "end_time": "2023-10-12T09:46:36.571010",
          "exception": false,
          "start_time": "2023-10-12T09:46:36.561653",
          "status": "completed"
        },
        "tags": []
      },
      "source": [
        "### Fit a LogisticRegression model to the data"
      ]
    },
    {
      "cell_type": "code",
      "execution_count": null,
      "id": "63e849f4",
      "metadata": {
        "execution": {
          "iopub.execute_input": "2023-10-12T09:46:36.592218Z",
          "iopub.status.busy": "2023-10-12T09:46:36.591602Z",
          "iopub.status.idle": "2023-10-12T09:46:36.735029Z",
          "shell.execute_reply": "2023-10-12T09:46:36.733544Z"
        },
        "id": "63e849f4",
        "papermill": {
          "duration": 0.158236,
          "end_time": "2023-10-12T09:46:36.738945",
          "exception": false,
          "start_time": "2023-10-12T09:46:36.580709",
          "status": "completed"
        },
        "tags": []
      },
      "outputs": [],
      "source": [
        "clf = LogisticRegression().fit(X_train,y_train)"
      ]
    },
    {
      "cell_type": "markdown",
      "id": "17e49b47",
      "metadata": {
        "id": "17e49b47",
        "papermill": {
          "duration": 0.029112,
          "end_time": "2023-10-12T09:46:36.797720",
          "exception": false,
          "start_time": "2023-10-12T09:46:36.768608",
          "status": "completed"
        },
        "tags": []
      },
      "source": [
        "### Parameter estimates"
      ]
    },
    {
      "cell_type": "code",
      "execution_count": null,
      "id": "2e72e134",
      "metadata": {
        "execution": {
          "iopub.execute_input": "2023-10-12T09:46:36.856144Z",
          "iopub.status.busy": "2023-10-12T09:46:36.855802Z",
          "iopub.status.idle": "2023-10-12T09:46:36.861860Z",
          "shell.execute_reply": "2023-10-12T09:46:36.861176Z"
        },
        "id": "2e72e134",
        "outputId": "26eee0bc-6fed-481a-bf67-e728b79271fb",
        "papermill": {
          "duration": 0.036298,
          "end_time": "2023-10-12T09:46:36.863591",
          "exception": false,
          "start_time": "2023-10-12T09:46:36.827293",
          "status": "completed"
        },
        "tags": []
      },
      "outputs": [
        {
          "data": {
            "text/plain": [
              "array([[0.99751462]])"
            ]
          },
          "execution_count": 35,
          "metadata": {},
          "output_type": "execute_result"
        }
      ],
      "source": [
        "clf.coef_"
      ]
    },
    {
      "cell_type": "code",
      "execution_count": null,
      "id": "0e09d324",
      "metadata": {
        "execution": {
          "iopub.execute_input": "2023-10-12T09:46:36.885569Z",
          "iopub.status.busy": "2023-10-12T09:46:36.885193Z",
          "iopub.status.idle": "2023-10-12T09:46:36.891037Z",
          "shell.execute_reply": "2023-10-12T09:46:36.890093Z"
        },
        "id": "0e09d324",
        "outputId": "b1db7206-c82a-4fe1-e4d5-9aeae85d8c37",
        "papermill": {
          "duration": 0.019042,
          "end_time": "2023-10-12T09:46:36.892998",
          "exception": false,
          "start_time": "2023-10-12T09:46:36.873956",
          "status": "completed"
        },
        "tags": []
      },
      "outputs": [
        {
          "data": {
            "text/plain": [
              "array([-3.19355406])"
            ]
          },
          "execution_count": 36,
          "metadata": {},
          "output_type": "execute_result"
        }
      ],
      "source": [
        "clf.intercept_"
      ]
    },
    {
      "cell_type": "markdown",
      "id": "66568f23",
      "metadata": {
        "id": "66568f23",
        "papermill": {
          "duration": 0.00998,
          "end_time": "2023-10-12T09:46:36.913716",
          "exception": false,
          "start_time": "2023-10-12T09:46:36.903736",
          "status": "completed"
        },
        "tags": []
      },
      "source": [
        "### Plot of model\n"
      ]
    },
    {
      "cell_type": "code",
      "execution_count": null,
      "id": "6625f48a",
      "metadata": {
        "execution": {
          "iopub.execute_input": "2023-10-12T09:46:36.936788Z",
          "iopub.status.busy": "2023-10-12T09:46:36.935867Z",
          "iopub.status.idle": "2023-10-12T09:46:38.368274Z",
          "shell.execute_reply": "2023-10-12T09:46:38.367271Z"
        },
        "id": "6625f48a",
        "outputId": "75ce12ec-a9ff-40a3-f8e0-99dcdfd14c32",
        "papermill": {
          "duration": 1.446034,
          "end_time": "2023-10-12T09:46:38.370545",
          "exception": false,
          "start_time": "2023-10-12T09:46:36.924511",
          "status": "completed"
        },
        "tags": []
      },
      "outputs": [
        {
          "data": {
            "text/plain": [
              "<Axes: xlabel='Inflight entertainment', ylabel='satisfaction'>"
            ]
          },
          "execution_count": 37,
          "metadata": {},
          "output_type": "execute_result"
        },
        {
          "data": {
            "image/png": "[encoded data removed]",
            "text/plain": [
              "<Figure size 640x480 with 1 Axes>"
            ]
          },
          "metadata": {},
          "output_type": "display_data"
        }
      ],
      "source": [
        "sns.regplot(x=\"Inflight entertainment\", y=\"satisfaction\", data=df, logistic=True, ci=None)"
      ]
    },
    {
      "cell_type": "markdown",
      "id": "d88fe3ad",
      "metadata": {
        "id": "d88fe3ad",
        "papermill": {
          "duration": 0.010367,
          "end_time": "2023-10-12T09:46:38.412660",
          "exception": false,
          "start_time": "2023-10-12T09:46:38.402293",
          "status": "completed"
        },
        "tags": []
      },
      "source": [
        "## 4: Results and evaluation"
      ]
    },
    {
      "cell_type": "markdown",
      "id": "5b4c1946",
      "metadata": {
        "id": "5b4c1946",
        "papermill": {
          "duration": 0.010695,
          "end_time": "2023-10-12T09:46:38.434001",
          "exception": false,
          "start_time": "2023-10-12T09:46:38.423306",
          "status": "completed"
        },
        "tags": []
      },
      "source": [
        "### Predict the outcome for the test dataset"
      ]
    },
    {
      "cell_type": "code",
      "execution_count": null,
      "id": "6189889b",
      "metadata": {
        "execution": {
          "iopub.execute_input": "2023-10-12T09:46:38.457276Z",
          "iopub.status.busy": "2023-10-12T09:46:38.456843Z",
          "iopub.status.idle": "2023-10-12T09:46:38.463730Z",
          "shell.execute_reply": "2023-10-12T09:46:38.462747Z"
        },
        "id": "6189889b",
        "papermill": {
          "duration": 0.021169,
          "end_time": "2023-10-12T09:46:38.465723",
          "exception": false,
          "start_time": "2023-10-12T09:46:38.444554",
          "status": "completed"
        },
        "tags": []
      },
      "outputs": [],
      "source": [
        "y_pred = clf.predict(X_test)"
      ]
    },
    {
      "cell_type": "code",
      "execution_count": null,
      "id": "e2710d84",
      "metadata": {
        "execution": {
          "iopub.execute_input": "2023-10-12T09:46:38.509225Z",
          "iopub.status.busy": "2023-10-12T09:46:38.508851Z",
          "iopub.status.idle": "2023-10-12T09:46:38.515085Z",
          "shell.execute_reply": "2023-10-12T09:46:38.513970Z"
        },
        "id": "e2710d84",
        "outputId": "fcb0daff-c065-4ba4-aaeb-2078a91b2930",
        "papermill": {
          "duration": 0.01968,
          "end_time": "2023-10-12T09:46:38.516815",
          "exception": false,
          "start_time": "2023-10-12T09:46:38.497135",
          "status": "completed"
        },
        "tags": []
      },
      "outputs": [
        {
          "name": "stdout",
          "output_type": "stream",
          "text": [
            "[1. 0. 0. ... 0. 0. 0.]\n"
          ]
        }
      ],
      "source": [
        "print(y_pred)"
      ]
    },
    {
      "cell_type": "code",
      "execution_count": null,
      "id": "0e18222e",
      "metadata": {
        "execution": {
          "iopub.execute_input": "2023-10-12T09:46:38.563490Z",
          "iopub.status.busy": "2023-10-12T09:46:38.563108Z",
          "iopub.status.idle": "2023-10-12T09:46:38.571825Z",
          "shell.execute_reply": "2023-10-12T09:46:38.570974Z"
        },
        "papermill": {
          "duration": 0.022988,
          "end_time": "2023-10-12T09:46:38.573738",
          "exception": false,
          "start_time": "2023-10-12T09:46:38.550750",
          "status": "completed"
        },
        "tags": [],
        "id": "0e18222e",
        "outputId": "ecf0e278-5e37-48e0-b990-522b21193939"
      },
      "outputs": [
        {
          "data": {
            "text/plain": [
              "array([[0.14258068, 0.85741932],\n",
              "       [0.55008402, 0.44991598],\n",
              "       [0.89989329, 0.10010671],\n",
              "       ...,\n",
              "       [0.89989329, 0.10010671],\n",
              "       [0.76826225, 0.23173775],\n",
              "       [0.55008402, 0.44991598]])"
            ]
          },
          "execution_count": 40,
          "metadata": {},
          "output_type": "execute_result"
        }
      ],
      "source": [
        "clf.predict_proba(X_test)"
      ]
    },
    {
      "cell_type": "code",
      "execution_count": null,
      "id": "2b2e3313",
      "metadata": {
        "execution": {
          "iopub.execute_input": "2023-10-12T09:46:38.598537Z",
          "iopub.status.busy": "2023-10-12T09:46:38.597822Z",
          "iopub.status.idle": "2023-10-12T09:46:38.606142Z",
          "shell.execute_reply": "2023-10-12T09:46:38.605266Z"
        },
        "papermill": {
          "duration": 0.02289,
          "end_time": "2023-10-12T09:46:38.607937",
          "exception": false,
          "start_time": "2023-10-12T09:46:38.585047",
          "status": "completed"
        },
        "tags": [],
        "id": "2b2e3313",
        "outputId": "4012d98e-76eb-4690-e266-538325ea3981"
      },
      "outputs": [
        {
          "data": {
            "text/plain": [
              "array([1., 0., 0., ..., 0., 0., 0.])"
            ]
          },
          "execution_count": 41,
          "metadata": {},
          "output_type": "execute_result"
        }
      ],
      "source": [
        "clf.predict(X_test)"
      ]
    },
    {
      "cell_type": "markdown",
      "id": "62315658",
      "metadata": {
        "id": "62315658",
        "papermill": {
          "duration": 0.01087,
          "end_time": "2023-10-12T09:46:38.629826",
          "exception": false,
          "start_time": "2023-10-12T09:46:38.618956",
          "status": "completed"
        },
        "tags": []
      },
      "source": [
        "### Accuracy"
      ]
    },
    {
      "cell_type": "code",
      "execution_count": null,
      "id": "f1166062",
      "metadata": {
        "execution": {
          "iopub.execute_input": "2023-10-12T09:46:38.657794Z",
          "iopub.status.busy": "2023-10-12T09:46:38.656838Z",
          "iopub.status.idle": "2023-10-12T09:46:38.739613Z",
          "shell.execute_reply": "2023-10-12T09:46:38.738545Z"
        },
        "id": "f1166062",
        "outputId": "fe561987-1b37-4389-de9e-b31174e0ecef",
        "papermill": {
          "duration": 0.100191,
          "end_time": "2023-10-12T09:46:38.741775",
          "exception": false,
          "start_time": "2023-10-12T09:46:38.641584",
          "status": "completed"
        },
        "tags": []
      },
      "outputs": [
        {
          "name": "stdout",
          "output_type": "stream",
          "text": [
            "Accuracy: 0.801529\n",
            "Precision: 0.816142\n",
            "Recall: 0.821530\n",
            "F1 Score: 0.818827\n"
          ]
        }
      ],
      "source": [
        "print(\"Accuracy:\", \"%.6f\" % metrics.accuracy_score(y_test, y_pred))\n",
        "print(\"Precision:\", \"%.6f\" % metrics.precision_score(y_test, y_pred))\n",
        "print(\"Recall:\", \"%.6f\" % metrics.recall_score(y_test, y_pred))\n",
        "print(\"F1 Score:\", \"%.6f\" % metrics.f1_score(y_test, y_pred))"
      ]
    }
  ],
  "metadata": {
    "kernelspec": {
      "display_name": "Python 3",
      "language": "python",
      "name": "python3"
    },
    "language_info": {
      "codemirror_mode": {
        "name": "ipython",
        "version": 3
      },
      "file_extension": ".py",
      "mimetype": "text/x-python",
      "name": "python",
      "nbconvert_exporter": "python",
      "pygments_lexer": "ipython3",
      "version": "3.11.4"
    },
    "papermill": {
      "default_parameters": {},
      "duration": 9.661383,
      "end_time": "2023-10-12T09:46:39.790900",
      "environment_variables": {},
      "exception": null,
      "input_path": "__notebook__.ipynb",
      "output_path": "__notebook__.ipynb",
      "parameters": {},
      "start_time": "2023-10-12T09:46:30.129517",
      "version": "2.4.0"
    },
    "colab": {
      "provenance": [],
      "include_colab_link": true
    }
  },
  "nbformat": 4,
  "nbformat_minor": 5
}